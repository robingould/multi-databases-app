{
 "cells": [
  {
   "cell_type": "code",
   "execution_count": 1,
   "metadata": {},
   "outputs": [
    {
     "name": "stdout",
     "output_type": "stream",
     "text": [
      "Collecting torch\n",
      "  Downloading torch-2.2.2-cp311-cp311-win_amd64.whl.metadata (26 kB)\n",
      "Requirement already satisfied: filelock in c:\\users\\bfx aoye\\anaconda3\\lib\\site-packages (from torch) (3.13.1)\n",
      "Requirement already satisfied: typing-extensions>=4.8.0 in c:\\users\\bfx aoye\\anaconda3\\lib\\site-packages (from torch) (4.9.0)\n",
      "Requirement already satisfied: sympy in c:\\users\\bfx aoye\\anaconda3\\lib\\site-packages (from torch) (1.12)\n",
      "Requirement already satisfied: networkx in c:\\users\\bfx aoye\\anaconda3\\lib\\site-packages (from torch) (3.1)\n",
      "Requirement already satisfied: jinja2 in c:\\users\\bfx aoye\\anaconda3\\lib\\site-packages (from torch) (3.1.3)\n",
      "Requirement already satisfied: fsspec in c:\\users\\bfx aoye\\anaconda3\\lib\\site-packages (from torch) (2023.10.0)\n",
      "Requirement already satisfied: MarkupSafe>=2.0 in c:\\users\\bfx aoye\\anaconda3\\lib\\site-packages (from jinja2->torch) (2.1.3)\n",
      "Requirement already satisfied: mpmath>=0.19 in c:\\users\\bfx aoye\\anaconda3\\lib\\site-packages (from sympy->torch) (1.3.0)\n",
      "Downloading torch-2.2.2-cp311-cp311-win_amd64.whl (198.6 MB)\n",
      "   ---------------------------------------- 0.0/198.6 MB ? eta -:--:--\n",
      "   ---------------------------------------- 0.0/198.6 MB 960.0 kB/s eta 0:03:27\n",
      "   ---------------------------------------- 0.5/198.6 MB 5.6 MB/s eta 0:00:36\n",
      "    --------------------------------------- 3.1/198.6 MB 25.1 MB/s eta 0:00:08\n",
      "   - -------------------------------------- 8.1/198.6 MB 47.0 MB/s eta 0:00:05\n",
      "   -- ------------------------------------ 13.6/198.6 MB 131.2 MB/s eta 0:00:02\n",
      "   --- ----------------------------------- 19.0/198.6 MB 131.2 MB/s eta 0:00:02\n",
      "   ---- ---------------------------------- 24.5/198.6 MB 131.2 MB/s eta 0:00:02\n",
      "   ----- --------------------------------- 28.2/198.6 MB 108.8 MB/s eta 0:00:02\n",
      "   ------ -------------------------------- 35.6/198.6 MB 131.2 MB/s eta 0:00:02\n",
      "   ------- ------------------------------- 39.8/198.6 MB 162.4 MB/s eta 0:00:01\n",
      "   -------- ------------------------------- 43.5/198.6 MB 93.9 MB/s eta 0:00:02\n",
      "   --------- ------------------------------ 49.0/198.6 MB 93.9 MB/s eta 0:00:02\n",
      "   ---------- ---------------------------- 54.4/198.6 MB 108.8 MB/s eta 0:00:02\n",
      "   ----------- --------------------------- 59.8/198.6 MB 108.8 MB/s eta 0:00:02\n",
      "   ------------ -------------------------- 65.2/198.6 MB 108.8 MB/s eta 0:00:02\n",
      "   ------------- ------------------------- 70.7/198.6 MB 108.8 MB/s eta 0:00:02\n",
      "   -------------- ------------------------ 76.3/198.6 MB 108.8 MB/s eta 0:00:02\n",
      "   --------------- ----------------------- 81.4/198.6 MB 108.8 MB/s eta 0:00:02\n",
      "   ----------------- --------------------- 87.3/198.6 MB 110.0 MB/s eta 0:00:02\n",
      "   ------------------ -------------------- 92.8/198.6 MB 110.0 MB/s eta 0:00:01\n",
      "   ------------------- ------------------- 98.3/198.6 MB 108.8 MB/s eta 0:00:01\n",
      "   ------------------- ------------------ 103.7/198.6 MB 108.8 MB/s eta 0:00:01\n",
      "   -------------------- ----------------- 109.2/198.6 MB 108.8 MB/s eta 0:00:01\n",
      "   --------------------- ---------------- 114.6/198.6 MB 108.8 MB/s eta 0:00:01\n",
      "   ----------------------- -------------- 120.3/198.6 MB 108.8 MB/s eta 0:00:01\n",
      "   ------------------------ ------------- 125.9/198.6 MB 108.8 MB/s eta 0:00:01\n",
      "   ------------------------- ------------ 131.5/198.6 MB 110.0 MB/s eta 0:00:01\n",
      "   -------------------------- ----------- 137.0/198.6 MB 110.0 MB/s eta 0:00:01\n",
      "   --------------------------- ---------- 142.3/198.6 MB 108.8 MB/s eta 0:00:01\n",
      "   ---------------------------- --------- 147.5/198.6 MB 108.8 MB/s eta 0:00:01\n",
      "   ----------------------------- -------- 153.0/198.6 MB 108.8 MB/s eta 0:00:01\n",
      "   ------------------------------ ------- 158.4/198.6 MB 131.2 MB/s eta 0:00:01\n",
      "   ------------------------------- ------ 164.0/198.6 MB 108.8 MB/s eta 0:00:01\n",
      "   -------------------------------- ----- 168.7/198.6 MB 131.2 MB/s eta 0:00:01\n",
      "   --------------------------------- ---- 174.7/198.6 MB 131.2 MB/s eta 0:00:01\n",
      "   ---------------------------------- --- 180.6/198.6 MB 131.2 MB/s eta 0:00:01\n",
      "   ----------------------------------- -- 186.0/198.6 MB 129.5 MB/s eta 0:00:01\n",
      "   ------------------------------------ - 191.6/198.6 MB 131.2 MB/s eta 0:00:01\n",
      "   -------------------------------------  197.0/198.6 MB 131.2 MB/s eta 0:00:01\n",
      "   -------------------------------------  198.6/198.6 MB 131.2 MB/s eta 0:00:01\n",
      "   -------------------------------------  198.6/198.6 MB 131.2 MB/s eta 0:00:01\n",
      "   -------------------------------------  198.6/198.6 MB 131.2 MB/s eta 0:00:01\n",
      "   -------------------------------------  198.6/198.6 MB 131.2 MB/s eta 0:00:01\n",
      "   -------------------------------------  198.6/198.6 MB 131.2 MB/s eta 0:00:01\n",
      "   -------------------------------------  198.6/198.6 MB 131.2 MB/s eta 0:00:01\n",
      "   --------------------------------------- 198.6/198.6 MB 26.2 MB/s eta 0:00:00\n",
      "Installing collected packages: torch\n",
      "Successfully installed torch-2.2.2\n",
      "Requirement already satisfied: tqdm in c:\\users\\bfx aoye\\anaconda3\\lib\\site-packages (4.65.0)\n",
      "Requirement already satisfied: colorama in c:\\users\\bfx aoye\\anaconda3\\lib\\site-packages (from tqdm) (0.4.6)\n"
     ]
    }
   ],
   "source": [
    "!pip install torch\n",
    "!pip install tqdm"
   ]
  },
  {
   "cell_type": "code",
   "execution_count": 2,
   "metadata": {},
   "outputs": [
    {
     "name": "stdout",
     "output_type": "stream",
     "text": [
      "Collecting InstructorEmbedding\n",
      "  Downloading InstructorEmbedding-1.0.1-py2.py3-none-any.whl.metadata (20 kB)\n",
      "Downloading InstructorEmbedding-1.0.1-py2.py3-none-any.whl (19 kB)\n",
      "Installing collected packages: InstructorEmbedding\n",
      "Successfully installed InstructorEmbedding-1.0.1\n",
      "Collecting sentence-transformers==2.2.2\n",
      "  Downloading sentence-transformers-2.2.2.tar.gz (85 kB)\n",
      "     ---------------------------------------- 0.0/86.0 kB ? eta -:--:--\n",
      "     ---- ----------------------------------- 10.2/86.0 kB ? eta -:--:--\n",
      "     -------------------------------------- 86.0/86.0 kB 970.7 kB/s eta 0:00:00\n",
      "  Preparing metadata (setup.py): started\n",
      "  Preparing metadata (setup.py): finished with status 'done'\n",
      "Collecting transformers<5.0.0,>=4.6.0 (from sentence-transformers==2.2.2)\n",
      "  Downloading transformers-4.39.3-py3-none-any.whl.metadata (134 kB)\n",
      "     ---------------------------------------- 0.0/134.8 kB ? eta -:--:--\n",
      "     -------------------------------------- 134.8/134.8 kB 4.0 MB/s eta 0:00:00\n",
      "Requirement already satisfied: tqdm in c:\\users\\bfx aoye\\anaconda3\\lib\\site-packages (from sentence-transformers==2.2.2) (4.65.0)\n",
      "Requirement already satisfied: torch>=1.6.0 in c:\\users\\bfx aoye\\anaconda3\\lib\\site-packages (from sentence-transformers==2.2.2) (2.2.2)\n",
      "Collecting torchvision (from sentence-transformers==2.2.2)\n",
      "  Downloading torchvision-0.17.2-cp311-cp311-win_amd64.whl.metadata (6.6 kB)\n",
      "Requirement already satisfied: numpy in c:\\users\\bfx aoye\\anaconda3\\lib\\site-packages (from sentence-transformers==2.2.2) (1.26.4)\n",
      "Requirement already satisfied: scikit-learn in c:\\users\\bfx aoye\\anaconda3\\lib\\site-packages (from sentence-transformers==2.2.2) (1.2.2)\n",
      "Requirement already satisfied: scipy in c:\\users\\bfx aoye\\anaconda3\\lib\\site-packages (from sentence-transformers==2.2.2) (1.11.4)\n",
      "Requirement already satisfied: nltk in c:\\users\\bfx aoye\\anaconda3\\lib\\site-packages (from sentence-transformers==2.2.2) (3.8.1)\n",
      "Collecting sentencepiece (from sentence-transformers==2.2.2)\n",
      "  Downloading sentencepiece-0.2.0-cp311-cp311-win_amd64.whl.metadata (8.3 kB)\n",
      "Collecting huggingface-hub>=0.4.0 (from sentence-transformers==2.2.2)\n",
      "  Downloading huggingface_hub-0.22.2-py3-none-any.whl.metadata (12 kB)\n",
      "Requirement already satisfied: filelock in c:\\users\\bfx aoye\\anaconda3\\lib\\site-packages (from huggingface-hub>=0.4.0->sentence-transformers==2.2.2) (3.13.1)\n",
      "Requirement already satisfied: fsspec>=2023.5.0 in c:\\users\\bfx aoye\\anaconda3\\lib\\site-packages (from huggingface-hub>=0.4.0->sentence-transformers==2.2.2) (2023.10.0)\n",
      "Requirement already satisfied: packaging>=20.9 in c:\\users\\bfx aoye\\anaconda3\\lib\\site-packages (from huggingface-hub>=0.4.0->sentence-transformers==2.2.2) (23.1)\n",
      "Requirement already satisfied: pyyaml>=5.1 in c:\\users\\bfx aoye\\anaconda3\\lib\\site-packages (from huggingface-hub>=0.4.0->sentence-transformers==2.2.2) (6.0.1)\n",
      "Requirement already satisfied: requests in c:\\users\\bfx aoye\\anaconda3\\lib\\site-packages (from huggingface-hub>=0.4.0->sentence-transformers==2.2.2) (2.31.0)\n",
      "Requirement already satisfied: typing-extensions>=3.7.4.3 in c:\\users\\bfx aoye\\anaconda3\\lib\\site-packages (from huggingface-hub>=0.4.0->sentence-transformers==2.2.2) (4.9.0)\n",
      "Requirement already satisfied: sympy in c:\\users\\bfx aoye\\anaconda3\\lib\\site-packages (from torch>=1.6.0->sentence-transformers==2.2.2) (1.12)\n",
      "Requirement already satisfied: networkx in c:\\users\\bfx aoye\\anaconda3\\lib\\site-packages (from torch>=1.6.0->sentence-transformers==2.2.2) (3.1)\n",
      "Requirement already satisfied: jinja2 in c:\\users\\bfx aoye\\anaconda3\\lib\\site-packages (from torch>=1.6.0->sentence-transformers==2.2.2) (3.1.3)\n",
      "Requirement already satisfied: colorama in c:\\users\\bfx aoye\\anaconda3\\lib\\site-packages (from tqdm->sentence-transformers==2.2.2) (0.4.6)\n",
      "Requirement already satisfied: regex!=2019.12.17 in c:\\users\\bfx aoye\\anaconda3\\lib\\site-packages (from transformers<5.0.0,>=4.6.0->sentence-transformers==2.2.2) (2023.10.3)\n",
      "Collecting tokenizers<0.19,>=0.14 (from transformers<5.0.0,>=4.6.0->sentence-transformers==2.2.2)\n",
      "  Downloading tokenizers-0.15.2-cp311-none-win_amd64.whl.metadata (6.8 kB)\n",
      "Collecting safetensors>=0.4.1 (from transformers<5.0.0,>=4.6.0->sentence-transformers==2.2.2)\n",
      "  Downloading safetensors-0.4.2-cp311-none-win_amd64.whl.metadata (3.9 kB)\n",
      "Requirement already satisfied: click in c:\\users\\bfx aoye\\anaconda3\\lib\\site-packages (from nltk->sentence-transformers==2.2.2) (8.1.7)\n",
      "Requirement already satisfied: joblib in c:\\users\\bfx aoye\\anaconda3\\lib\\site-packages (from nltk->sentence-transformers==2.2.2) (1.2.0)\n",
      "Requirement already satisfied: threadpoolctl>=2.0.0 in c:\\users\\bfx aoye\\anaconda3\\lib\\site-packages (from scikit-learn->sentence-transformers==2.2.2) (2.2.0)\n",
      "Requirement already satisfied: pillow!=8.3.*,>=5.3.0 in c:\\users\\bfx aoye\\anaconda3\\lib\\site-packages (from torchvision->sentence-transformers==2.2.2) (10.2.0)\n",
      "Requirement already satisfied: MarkupSafe>=2.0 in c:\\users\\bfx aoye\\anaconda3\\lib\\site-packages (from jinja2->torch>=1.6.0->sentence-transformers==2.2.2) (2.1.3)\n",
      "Requirement already satisfied: charset-normalizer<4,>=2 in c:\\users\\bfx aoye\\anaconda3\\lib\\site-packages (from requests->huggingface-hub>=0.4.0->sentence-transformers==2.2.2) (2.0.4)\n",
      "Requirement already satisfied: idna<4,>=2.5 in c:\\users\\bfx aoye\\anaconda3\\lib\\site-packages (from requests->huggingface-hub>=0.4.0->sentence-transformers==2.2.2) (3.4)\n",
      "Requirement already satisfied: urllib3<3,>=1.21.1 in c:\\users\\bfx aoye\\anaconda3\\lib\\site-packages (from requests->huggingface-hub>=0.4.0->sentence-transformers==2.2.2) (2.0.7)\n",
      "Requirement already satisfied: certifi>=2017.4.17 in c:\\users\\bfx aoye\\anaconda3\\lib\\site-packages (from requests->huggingface-hub>=0.4.0->sentence-transformers==2.2.2) (2024.2.2)\n",
      "Requirement already satisfied: mpmath>=0.19 in c:\\users\\bfx aoye\\anaconda3\\lib\\site-packages (from sympy->torch>=1.6.0->sentence-transformers==2.2.2) (1.3.0)\n",
      "Downloading huggingface_hub-0.22.2-py3-none-any.whl (388 kB)\n",
      "   ---------------------------------------- 0.0/388.9 kB ? eta -:--:--\n",
      "   --------------------------------------- 388.9/388.9 kB 23.7 MB/s eta 0:00:00\n",
      "Downloading transformers-4.39.3-py3-none-any.whl (8.8 MB)\n",
      "   ---------------------------------------- 0.0/8.8 MB ? eta -:--:--\n",
      "   ----------------- ---------------------- 4.0/8.8 MB 83.9 MB/s eta 0:00:01\n",
      "   ----------------------------------- ---- 7.8/8.8 MB 83.1 MB/s eta 0:00:01\n",
      "   ---------------------------------------- 8.8/8.8 MB 70.3 MB/s eta 0:00:00\n",
      "Downloading sentencepiece-0.2.0-cp311-cp311-win_amd64.whl (991 kB)\n",
      "   ---------------------------------------- 0.0/991.5 kB ? eta -:--:--\n",
      "   --------------------------------------- 991.5/991.5 kB 65.4 MB/s eta 0:00:00\n",
      "Downloading torchvision-0.17.2-cp311-cp311-win_amd64.whl (1.2 MB)\n",
      "   ---------------------------------------- 0.0/1.2 MB ? eta -:--:--\n",
      "   ---------------------------------------- 1.2/1.2 MB 77.0 MB/s eta 0:00:00\n",
      "Downloading safetensors-0.4.2-cp311-none-win_amd64.whl (269 kB)\n",
      "   ---------------------------------------- 0.0/269.6 kB ? eta -:--:--\n",
      "   ---------------------------------------- 269.6/269.6 kB ? eta 0:00:00\n",
      "Downloading tokenizers-0.15.2-cp311-none-win_amd64.whl (2.2 MB)\n",
      "   ---------------------------------------- 0.0/2.2 MB ? eta -:--:--\n",
      "   ---------------------------------------- 2.2/2.2 MB 70.4 MB/s eta 0:00:00\n",
      "Building wheels for collected packages: sentence-transformers\n",
      "  Building wheel for sentence-transformers (setup.py): started\n",
      "  Building wheel for sentence-transformers (setup.py): finished with status 'done'\n",
      "  Created wheel for sentence-transformers: filename=sentence_transformers-2.2.2-py3-none-any.whl size=125953 sha256=cb99b040a8d1ce12cd61542c4383d5170687f562cdd47f0567dadee68e207c48\n",
      "  Stored in directory: c:\\users\\bfx aoye\\appdata\\local\\pip\\cache\\wheels\\ff\\27\\bf\\ffba8b318b02d7f691a57084ee154e26ed24d012b0c7805881\n",
      "Successfully built sentence-transformers\n",
      "Installing collected packages: sentencepiece, safetensors, huggingface-hub, torchvision, tokenizers, transformers, sentence-transformers\n",
      "Successfully installed huggingface-hub-0.22.2 safetensors-0.4.2 sentence-transformers-2.2.2 sentencepiece-0.2.0 tokenizers-0.15.2 torchvision-0.17.2 transformers-4.39.3\n"
     ]
    },
    {
     "name": "stderr",
     "output_type": "stream",
     "text": [
      "c:\\Users\\bfx aoye\\anaconda3\\Lib\\site-packages\\InstructorEmbedding\\instructor.py:7: TqdmExperimentalWarning: Using `tqdm.autonotebook.tqdm` in notebook mode. Use `tqdm.tqdm` instead to force console mode (e.g. in jupyter console)\n",
      "  from tqdm.autonotebook import trange\n"
     ]
    },
    {
     "data": {
      "application/vnd.jupyter.widget-view+json": {
       "model_id": "7a1297a07ee844d5b55e6efe44811049",
       "version_major": 2,
       "version_minor": 0
      },
      "text/plain": [
       ".gitattributes:   0%|          | 0.00/1.48k [00:00<?, ?B/s]"
      ]
     },
     "metadata": {},
     "output_type": "display_data"
    },
    {
     "data": {
      "application/vnd.jupyter.widget-view+json": {
       "model_id": "05ec0c8dc37344fcb2ff8c22f3e7d9b8",
       "version_major": 2,
       "version_minor": 0
      },
      "text/plain": [
       "1_Pooling/config.json:   0%|          | 0.00/270 [00:00<?, ?B/s]"
      ]
     },
     "metadata": {},
     "output_type": "display_data"
    },
    {
     "data": {
      "application/vnd.jupyter.widget-view+json": {
       "model_id": "5cf513d21886410489a2203556c232c2",
       "version_major": 2,
       "version_minor": 0
      },
      "text/plain": [
       "2_Dense/config.json:   0%|          | 0.00/116 [00:00<?, ?B/s]"
      ]
     },
     "metadata": {},
     "output_type": "display_data"
    },
    {
     "data": {
      "application/vnd.jupyter.widget-view+json": {
       "model_id": "94e5ca97e15c4df7ad7a2c67bfbc9c2d",
       "version_major": 2,
       "version_minor": 0
      },
      "text/plain": [
       "pytorch_model.bin:   0%|          | 0.00/3.15M [00:00<?, ?B/s]"
      ]
     },
     "metadata": {},
     "output_type": "display_data"
    },
    {
     "data": {
      "application/vnd.jupyter.widget-view+json": {
       "model_id": "306a4e3cdd644b98a096ac442f15546f",
       "version_major": 2,
       "version_minor": 0
      },
      "text/plain": [
       "README.md:   0%|          | 0.00/66.3k [00:00<?, ?B/s]"
      ]
     },
     "metadata": {},
     "output_type": "display_data"
    },
    {
     "data": {
      "application/vnd.jupyter.widget-view+json": {
       "model_id": "9d8694644da746898132c52d91ff25cb",
       "version_major": 2,
       "version_minor": 0
      },
      "text/plain": [
       "config.json:   0%|          | 0.00/1.52k [00:00<?, ?B/s]"
      ]
     },
     "metadata": {},
     "output_type": "display_data"
    },
    {
     "data": {
      "application/vnd.jupyter.widget-view+json": {
       "model_id": "8d9a954014654ed88ebd0ff405cfcd61",
       "version_major": 2,
       "version_minor": 0
      },
      "text/plain": [
       "config_sentence_transformers.json:   0%|          | 0.00/122 [00:00<?, ?B/s]"
      ]
     },
     "metadata": {},
     "output_type": "display_data"
    },
    {
     "data": {
      "application/vnd.jupyter.widget-view+json": {
       "model_id": "ec39e84a6f044f668ef036886e8596ea",
       "version_major": 2,
       "version_minor": 0
      },
      "text/plain": [
       "pytorch_model.bin:   0%|          | 0.00/4.96G [00:00<?, ?B/s]"
      ]
     },
     "metadata": {},
     "output_type": "display_data"
    },
    {
     "data": {
      "application/vnd.jupyter.widget-view+json": {
       "model_id": "36c22ef7631a4c13a0493c115bfa2e33",
       "version_major": 2,
       "version_minor": 0
      },
      "text/plain": [
       "sentence_bert_config.json:   0%|          | 0.00/53.0 [00:00<?, ?B/s]"
      ]
     },
     "metadata": {},
     "output_type": "display_data"
    },
    {
     "data": {
      "application/vnd.jupyter.widget-view+json": {
       "model_id": "72b300526e93494c922ea66f6510d07c",
       "version_major": 2,
       "version_minor": 0
      },
      "text/plain": [
       "special_tokens_map.json:   0%|          | 0.00/2.20k [00:00<?, ?B/s]"
      ]
     },
     "metadata": {},
     "output_type": "display_data"
    },
    {
     "data": {
      "application/vnd.jupyter.widget-view+json": {
       "model_id": "4a9f7d0c69bc4b84a0ccaeecba46e6a4",
       "version_major": 2,
       "version_minor": 0
      },
      "text/plain": [
       "spiece.model:   0%|          | 0.00/792k [00:00<?, ?B/s]"
      ]
     },
     "metadata": {},
     "output_type": "display_data"
    },
    {
     "data": {
      "application/vnd.jupyter.widget-view+json": {
       "model_id": "9b2e0322dea34167b931a42c2b66a476",
       "version_major": 2,
       "version_minor": 0
      },
      "text/plain": [
       "tokenizer.json:   0%|          | 0.00/2.42M [00:00<?, ?B/s]"
      ]
     },
     "metadata": {},
     "output_type": "display_data"
    },
    {
     "data": {
      "application/vnd.jupyter.widget-view+json": {
       "model_id": "619479e684b845d99817e426417197ee",
       "version_major": 2,
       "version_minor": 0
      },
      "text/plain": [
       "tokenizer_config.json:   0%|          | 0.00/2.40k [00:00<?, ?B/s]"
      ]
     },
     "metadata": {},
     "output_type": "display_data"
    },
    {
     "data": {
      "application/vnd.jupyter.widget-view+json": {
       "model_id": "26f18cce5a8543e49d0472a26afa4d75",
       "version_major": 2,
       "version_minor": 0
      },
      "text/plain": [
       "modules.json:   0%|          | 0.00/461 [00:00<?, ?B/s]"
      ]
     },
     "metadata": {},
     "output_type": "display_data"
    },
    {
     "name": "stdout",
     "output_type": "stream",
     "text": [
      "load INSTRUCTOR_Transformer\n",
      "max_seq_length  512\n"
     ]
    },
    {
     "data": {
      "application/vnd.jupyter.widget-view+json": {
       "model_id": "139e3ebf688343f1bbf9171b05358c2b",
       "version_major": 2,
       "version_minor": 0
      },
      "text/plain": [
       "Batches:   0%|          | 0/1 [00:00<?, ?it/s]"
      ]
     },
     "metadata": {},
     "output_type": "display_data"
    },
    {
     "name": "stdout",
     "output_type": "stream",
     "text": [
      "Query sentence: Are there vegetarians?\n",
      "Embedding vector - length: 1\n",
      "Embedding vector - columns: 768\n",
      "Embedding vector - note includes negative values: [[ 5.55301793e-02 -9.73379239e-03  2.83068717e-02 -9.83805489e-03\n",
      "  -3.07727885e-02 -2.94512827e-02 -7.33139515e-02 -1.45043610e-02\n",
      "  -1.65527333e-02 -1.19232573e-02 -2.42101960e-02 -1.85861755e-02\n",
      "  -5.94528057e-02 -6.61517307e-02 -1.12262247e-02 -1.88879576e-02\n",
      "   4.55292724e-02 -7.27729797e-02 -1.03562120e-02 -1.64942872e-02\n",
      "  -2.77866353e-03 -5.27043045e-02 -3.74644548e-02  6.03217110e-02\n",
      "  -1.00463321e-02 -1.15647642e-02  4.07244544e-03  2.44245268e-02\n",
      "  -3.31718586e-02 -7.60056265e-03  3.51374783e-02 -4.77526113e-02\n",
      "  -2.45030876e-02 -4.48647887e-02  4.36830446e-02  4.98404577e-02\n",
      "  -9.08991974e-03 -4.08729836e-02 -1.40236812e-02  4.62939870e-03\n",
      "  -2.30898894e-02  9.14880708e-02  2.86631435e-02 -1.65751465e-02\n",
      "  -3.78851057e-03  8.14326331e-02  6.95712352e-03 -4.95424401e-03\n",
      "   2.12689750e-02  6.55667577e-03 -3.61305848e-02 -2.89178714e-02\n",
      "  -1.49750924e-02 -3.15563306e-02 -9.82095953e-04 -1.41099216e-02\n",
      "  -1.41142281e-02  4.41162027e-02 -8.57058819e-03  1.65560078e-02\n",
      "  -1.01143522e-02  8.46221298e-03 -1.10449782e-02  3.37082334e-02\n",
      "   2.54412722e-02  1.85228325e-02  5.75408265e-02  2.06151549e-02\n",
      "  -4.14481871e-02  4.28924561e-02 -3.58296186e-02  1.89096332e-02\n",
      "  -3.35501544e-02  1.68276988e-02 -2.32090466e-02  7.25360438e-02\n",
      "   1.69185493e-02  2.81951465e-02  1.26304273e-02  1.92895029e-02\n",
      "  -6.00354522e-02 -1.52497808e-03 -5.04236259e-02  1.13387816e-02\n",
      "  -1.26575958e-02 -1.56914536e-02  1.02525940e-02  6.06956473e-03\n",
      "   3.48234400e-02  1.03392512e-01 -9.29595903e-03  2.98007275e-03\n",
      "  -4.96614054e-02 -5.52546233e-02  1.51732834e-02  2.72138156e-02\n",
      "   6.32029921e-02 -1.36696268e-02 -2.31840704e-02 -3.44992825e-03\n",
      "  -1.82662662e-02  1.01642255e-02 -6.02518655e-02 -3.99732478e-02\n",
      "  -7.93351829e-02 -4.51116115e-02  4.02718745e-02  1.72551125e-02\n",
      "   2.81986617e-03 -1.06863724e-02  4.10497673e-02  4.15999740e-02\n",
      "  -1.70847848e-02 -1.02937156e-02 -5.00393193e-03  2.28752978e-02\n",
      "   3.34576145e-02 -3.50287408e-02 -7.67643824e-02  9.46926512e-03\n",
      "   5.47057018e-02  3.59019637e-02  1.99669576e-03  2.59449775e-03\n",
      "   1.44933928e-02  2.15506647e-03  6.35145530e-02 -7.49582134e-04\n",
      "  -1.38381068e-02  1.01879165e-02  1.73397250e-02  7.66023807e-03\n",
      "  -2.67984606e-02 -2.38109436e-02  1.16840661e-01  1.77123153e-03\n",
      "   1.99481007e-02 -3.75688151e-02 -8.13203119e-03 -4.51258197e-02\n",
      "   3.67692485e-02 -4.93651628e-02  1.18992431e-02 -4.03838009e-02\n",
      "  -5.16676307e-02 -1.44439870e-02 -9.70791746e-03  1.02915820e-02\n",
      "   2.12097540e-02 -2.12250389e-02  3.74704716e-03 -2.85253208e-02\n",
      "  -2.07893527e-03  4.97264452e-02  1.58238858e-02  1.50087697e-04\n",
      "  -5.36753498e-02 -6.84011774e-03  3.68658490e-02 -4.30345861e-03\n",
      "   6.72154203e-02 -1.70956291e-02 -5.58123626e-02  2.26998199e-02\n",
      "  -7.48500973e-02 -2.68488992e-02 -1.25501333e-02  2.82909465e-03\n",
      "  -1.91042963e-02 -1.25367176e-02  7.64625147e-02 -8.72111041e-03\n",
      "   5.91098284e-03 -1.00876507e-03  4.21072729e-02 -4.26015854e-02\n",
      "  -3.73907611e-02  2.60916352e-02  4.41197939e-02  4.42032814e-02\n",
      "  -2.83925831e-02  3.21051665e-02  2.72120014e-02 -2.75478214e-02\n",
      "   3.85855623e-02  1.09718996e-03 -3.55290920e-02 -5.11819422e-02\n",
      "  -1.66623536e-02  1.30329491e-03  4.31600865e-03 -1.23384006e-01\n",
      "  -2.56249658e-03  5.27783521e-02 -3.25526185e-02  5.94144082e-03\n",
      "   3.20053138e-02  7.92696327e-02 -4.47174627e-03  2.57535651e-02\n",
      "  -1.24801518e-02  2.36740243e-02  9.12979362e-04  3.92035954e-02\n",
      "  -5.11695025e-03  6.95937499e-03  2.48592664e-02  6.17660992e-02\n",
      "  -2.33623348e-02  5.33819385e-02 -2.88807154e-02  2.80073863e-02\n",
      "  -8.00528657e-03  4.14317288e-03  7.64279347e-03  7.76362494e-02\n",
      "   3.43671069e-02 -1.58630721e-02 -1.31381070e-02  7.75749832e-02\n",
      "  -1.24702603e-02  1.20575307e-02  1.12581085e-02 -2.25123186e-02\n",
      "   3.32506113e-02 -7.09809083e-03 -5.57342395e-02 -1.60527378e-02\n",
      "   5.64573035e-02  5.57202939e-03 -6.05087634e-03 -1.43044908e-02\n",
      "   8.66149291e-02  2.80324649e-02 -1.86430272e-02 -1.81315262e-02\n",
      "   2.22189780e-02 -5.53766452e-02 -5.73486648e-02 -2.25953665e-02\n",
      "   6.55904636e-02 -2.55318135e-02  8.59634206e-03 -4.57628891e-02\n",
      "   8.12750533e-02  7.76422471e-02 -3.70429046e-02 -3.39995581e-03\n",
      "  -5.41740656e-02 -5.26940450e-03  1.86149348e-02 -3.45683172e-02\n",
      "   2.93061510e-02  3.40404399e-02 -4.65045357e-03  1.93135124e-02\n",
      "  -4.73772958e-02 -2.11473554e-02  4.30884678e-03  4.08765972e-02\n",
      "  -6.75665438e-02 -3.92003320e-02 -4.36200686e-02 -4.59523592e-03\n",
      "  -1.34461746e-02 -7.13859173e-03  4.19813395e-02 -3.97474840e-02\n",
      "   5.61014414e-02 -1.31319463e-02 -6.57901727e-03  6.20641820e-02\n",
      "   6.53826669e-02 -1.90866906e-02  5.08752558e-03 -1.22742774e-02\n",
      "   3.31031084e-02 -4.12875935e-02 -4.09966335e-02  2.63341162e-02\n",
      "  -4.59925123e-02 -7.50575960e-02  3.84507738e-02 -2.93491445e-02\n",
      "  -1.39821367e-02 -4.24109679e-03 -4.19533141e-02 -4.98449281e-02\n",
      "   6.25447333e-02 -8.02144557e-02  1.99855361e-02  1.47361942e-02\n",
      "  -3.64834480e-02  1.64894853e-02 -1.66815910e-02  2.03252491e-02\n",
      "  -1.43469712e-02  4.18441277e-03  3.88520882e-02  1.66630782e-02\n",
      "   5.28565422e-03 -1.26302736e-02  3.12405769e-02  1.09992428e-02\n",
      "  -3.35068605e-03  2.05148999e-02 -6.36185929e-02 -1.49025936e-02\n",
      "   2.53483932e-02 -2.61443071e-02  7.24198744e-02  2.38426309e-02\n",
      "   8.78005382e-03  1.77374724e-02 -3.01889032e-02 -6.79296767e-03\n",
      "   8.60008299e-02  3.79275791e-02  2.10026447e-02  3.39174271e-03\n",
      "   7.25497454e-02 -2.86175348e-02  1.64982677e-02  1.29061099e-02\n",
      "   6.29169447e-03  1.77738685e-02  3.27733643e-02  7.35994009e-03\n",
      "   3.26537155e-02 -4.81126942e-02  1.42630786e-02  4.43476215e-02\n",
      "  -6.37297034e-02  2.18893550e-02  2.12291684e-02 -1.58074293e-02\n",
      "   1.42347477e-02  3.37944627e-02  2.40036771e-02  4.04294394e-02\n",
      "   2.92505953e-03 -3.92818972e-02  3.32491696e-02 -2.47464273e-02\n",
      "  -2.57228315e-02 -1.72573552e-02  5.47219627e-02  4.94347364e-02\n",
      "  -3.56888138e-02 -4.61142771e-02  9.65491869e-03  6.16513891e-03\n",
      "   3.32511775e-03  4.00590263e-02  4.44910228e-02 -1.64929461e-02\n",
      "   1.79751348e-02 -3.38419564e-02  3.83782387e-02 -3.13451886e-02\n",
      "   4.96740527e-02  5.07381968e-02 -1.51149835e-02 -1.47114648e-02\n",
      "  -2.49749236e-02 -2.43916474e-02 -5.69202937e-02 -4.49391045e-02\n",
      "   2.13459716e-03  3.88110355e-02  6.11387677e-02  2.30372231e-02\n",
      "   2.21011098e-02 -3.40950601e-02 -6.60671070e-02  2.37009898e-02\n",
      "  -1.29924687e-02 -9.91983116e-02 -2.90335529e-02 -5.90265952e-02\n",
      "   1.62579399e-02  2.99533065e-02 -3.08006182e-02  1.62476283e-02\n",
      "   4.04853784e-02  1.16521474e-02  1.96338296e-02 -2.97612622e-02\n",
      "   3.54082100e-02  3.16828629e-03  2.72579454e-02  2.59546172e-02\n",
      "   2.05420740e-02  2.06842832e-02  2.02920921e-02  1.34609183e-02\n",
      "  -5.59504628e-02 -1.69501323e-02 -8.27401578e-02  1.71226561e-02\n",
      "   5.68965860e-02 -1.70488600e-02 -1.02538373e-02  5.22461534e-03\n",
      "   2.42023473e-03  6.55309930e-02  1.63988862e-02 -9.91041865e-03\n",
      "   5.19299228e-03 -8.73027649e-03 -1.13999732e-02  2.15424187e-02\n",
      "   1.38013605e-02  4.66624554e-03  3.53319049e-02 -3.87668870e-02\n",
      "   2.26927176e-02 -3.58794592e-02  2.43898518e-02  8.38242471e-03\n",
      "  -4.06431220e-03 -2.93648578e-02  7.36259110e-03  2.44390033e-02\n",
      "  -4.27183621e-02  1.25136860e-02  8.81535374e-03 -1.64976418e-02\n",
      "  -4.77417894e-02  1.77989993e-02  1.96692869e-02  6.19420111e-02\n",
      "   1.81756336e-02  1.21468082e-02 -3.28677371e-02 -3.37193604e-03\n",
      "  -3.93226929e-02  1.29870865e-02 -3.75580527e-02  3.52384411e-02\n",
      "  -6.36991765e-03 -3.47522683e-02  1.17448429e-02  4.10071276e-02\n",
      "  -2.70334329e-03 -2.39123106e-02 -2.45655477e-02 -3.77897620e-02\n",
      "   3.50198671e-02  1.42782126e-02 -3.00673414e-02  1.47310430e-02\n",
      "   2.94588935e-02  5.30164614e-02  1.47620612e-03  3.08351051e-02\n",
      "   2.81979719e-05 -9.13826283e-03 -1.56383421e-02 -2.03689039e-02\n",
      "   4.47112275e-03  2.71349940e-02 -1.58026572e-02  1.14421230e-02\n",
      "   1.07147940e-03 -1.90509632e-02 -6.45980937e-03  5.35068065e-02\n",
      "   2.17583943e-02  9.55743492e-02  5.42847402e-02 -1.63724106e-02\n",
      "  -3.48247737e-02 -5.19807860e-02 -1.73981301e-02  4.01646569e-02\n",
      "  -2.38608662e-02  1.41657386e-02 -4.69847992e-02 -2.08279956e-02\n",
      "   4.20799851e-02  4.61892635e-02  1.04584796e-02 -1.95446871e-02\n",
      "  -1.17828632e-02  8.17775205e-02 -7.16309249e-02 -3.60503644e-02\n",
      "   9.24226362e-03 -1.88150723e-02 -2.99352892e-02  5.72944395e-02\n",
      "   3.13719846e-02 -6.68880856e-03  6.62293285e-03 -5.26465662e-02\n",
      "  -3.06938738e-02 -3.86913680e-02 -2.81163249e-02  3.20880711e-02\n",
      "  -5.50888143e-02  2.16251649e-02 -9.08598304e-03  1.81095656e-02\n",
      "  -3.21273282e-02  3.43438536e-02 -2.58714966e-02  3.80791500e-02\n",
      "   1.48904296e-02  2.91657969e-02  2.65353825e-02  1.32138645e-02\n",
      "  -1.22485571e-02 -5.69818122e-03  1.52963968e-02 -2.16565393e-02\n",
      "  -2.70812586e-03  2.34970096e-02 -8.90500750e-03 -7.26688802e-02\n",
      "  -8.67380586e-04 -8.69906042e-03  3.86241302e-02  9.51794758e-02\n",
      "   1.29589615e-02 -2.72409059e-02  8.07349477e-03 -6.15068339e-03\n",
      "  -7.87382498e-02  3.32776867e-02 -8.19974113e-03 -1.95760336e-02\n",
      "  -9.57182515e-03 -8.02395307e-03 -3.15148034e-03 -1.11319609e-02\n",
      "  -3.26586887e-02 -8.44362564e-03 -2.02847235e-02 -6.65163563e-04\n",
      "  -4.81389686e-02  1.66717730e-02 -8.24844372e-03  1.94353256e-02\n",
      "  -5.41004650e-02 -2.65246853e-02  6.58378517e-03  7.85881095e-03\n",
      "   3.77470553e-02 -4.73098643e-02 -2.36625653e-02  4.06428017e-02\n",
      "  -4.51353081e-02  5.68198040e-02 -1.82928257e-02  3.61848176e-02\n",
      "   3.13831493e-02 -2.48427372e-02  3.33742350e-02 -2.95572095e-02\n",
      "   7.01542245e-03  2.09396891e-02 -9.11850929e-02  2.71266494e-02\n",
      "  -4.95604575e-02 -1.46120563e-02  8.49819556e-02 -4.74525355e-02\n",
      "  -4.50948291e-02 -4.24086377e-02  1.40890395e-02  9.37978365e-03\n",
      "  -9.91840847e-04 -4.26331535e-02  4.85958531e-02  3.11983451e-02\n",
      "   3.04418784e-02  2.59904712e-02  5.76504879e-02  1.90241553e-03\n",
      "   2.45106593e-02  2.05396432e-02 -3.74840666e-03 -6.73217177e-02\n",
      "   1.21142976e-02 -2.09786650e-02  1.11803031e-02  5.45273125e-02\n",
      "  -5.19747846e-02 -8.16136878e-03 -4.83452417e-02 -9.85860266e-03\n",
      "  -2.09608506e-02  1.99759635e-03 -4.04445454e-03  8.09504390e-02\n",
      "   7.57061467e-02 -3.72576714e-02  5.60194487e-03 -3.69590335e-02\n",
      "   1.80776529e-02 -3.91455973e-03 -5.22048660e-02  2.59088576e-02\n",
      "   3.02026104e-02  3.04191224e-02  5.28594777e-02 -2.87842974e-02\n",
      "   2.68167313e-02 -1.87459141e-02  5.99090196e-02 -1.65978801e-02\n",
      "   7.79672265e-02  2.42262464e-02  1.12683484e-02 -4.78528254e-02\n",
      "  -4.83243726e-03  3.09579093e-02 -3.86473350e-03  7.29798824e-02\n",
      "   3.30315228e-03  3.16863470e-02 -9.81166400e-03  1.48509601e-02\n",
      "   6.70221150e-02 -9.39512532e-03 -5.73763065e-02 -4.57754917e-03\n",
      "  -5.20147271e-02 -1.70401521e-02 -1.57523230e-02 -5.09289205e-02\n",
      "  -4.45368364e-02 -2.19106451e-02 -5.28685451e-02 -7.37440959e-02\n",
      "  -1.79525577e-02  2.93787494e-02  5.61434440e-02  1.90159138e-02\n",
      "   1.25711393e-02 -2.98458785e-02 -5.12319356e-02  3.58292386e-02\n",
      "  -4.62840796e-02 -9.69721302e-02  4.55870330e-02 -2.58751912e-03\n",
      "  -2.78979894e-02  1.30152435e-03 -2.71534920e-02 -3.13121378e-02\n",
      "  -1.79981738e-02 -2.05291882e-02 -4.94936518e-02 -3.21517475e-02\n",
      "  -1.05372807e-02  2.38648318e-02  7.59775459e-04 -2.95250174e-02\n",
      "  -9.47796404e-02  5.64479567e-02 -1.59920231e-02  7.68029224e-03\n",
      "  -2.38394476e-02  1.51496660e-03 -5.91802187e-02  7.16592185e-03\n",
      "   5.35671636e-02  1.50212436e-03 -1.89126804e-02 -4.52289991e-02\n",
      "  -9.77938063e-03 -1.66451186e-02 -5.00151701e-03 -5.05170226e-03\n",
      "   1.17933434e-02  1.41344937e-02 -3.23055424e-02 -4.17967960e-02\n",
      "  -8.02434385e-02 -1.49677247e-02 -2.39953846e-02  2.01933514e-02\n",
      "   1.72383338e-02  5.93688712e-03 -2.14061923e-02  6.06125500e-03\n",
      "  -3.44998576e-02  2.82567460e-02  2.22859278e-04  1.50902206e-02\n",
      "   2.81208176e-02 -1.89070648e-03  5.98619953e-02 -2.97460333e-02\n",
      "   4.07506190e-02  1.95708480e-02 -8.94571841e-02 -4.26736698e-02\n",
      "  -1.19353654e-02 -3.72290760e-02  4.86434624e-02 -1.82386674e-02\n",
      "  -3.70997074e-03  6.69573667e-03  5.16138645e-03 -1.61915757e-02\n",
      "   3.16991359e-02 -7.18255248e-03 -2.12570094e-02 -2.86769755e-02\n",
      "   1.04386425e-02 -3.24248001e-02 -3.56256124e-03  1.82910692e-02\n",
      "  -8.67295936e-02 -1.70391388e-02  3.27501111e-02  3.90705131e-02\n",
      "  -6.93896366e-03 -6.89836044e-04 -6.04579635e-02 -6.65100990e-03\n",
      "  -7.61600062e-02 -1.41872671e-02  4.77839960e-04 -1.66788686e-05\n",
      "  -5.77423163e-02  2.36878246e-02  1.29437700e-01  3.90631817e-02\n",
      "   8.29909965e-02  1.88024603e-02 -4.34897169e-02  5.01226541e-03\n",
      "  -3.63497296e-03  2.33513173e-02 -4.03498299e-03  2.82512680e-02\n",
      "   5.39119681e-03 -6.67018350e-03  3.50886956e-02  9.83291958e-03\n",
      "   8.04578327e-03 -8.50888640e-02 -5.20678982e-02  2.42991354e-02\n",
      "  -1.25884619e-02 -3.13418247e-02 -3.86180058e-02  5.96040301e-02\n",
      "   2.87628472e-02  2.98276599e-02  1.96458120e-02  3.10259443e-02\n",
      "  -2.87534855e-02 -1.39230695e-02  6.71534762e-02  6.45695347e-03\n",
      "   8.69098958e-03  1.78546421e-02  1.60202645e-02  1.11886868e-02\n",
      "  -3.48973088e-02 -6.88834265e-02 -4.57142480e-02  1.97518896e-02]]\n"
     ]
    }
   ],
   "source": [
    "# Load embedding model library.\n",
    "!pip install InstructorEmbedding\n",
    "!pip install sentence-transformers==2.2.2\n",
    "from InstructorEmbedding import INSTRUCTOR\n",
    "# Indicate which embedding model you plan to use.\n",
    "model = INSTRUCTOR(\"hkunlp/instructor-xl\")\n",
    "# You can replace it with different questions.\n",
    "Queryquestion = \"Are there vegetarians?\"\n",
    "# You embed our query question using the model you decided.\n",
    "Embeddings = model.encode([Queryquestion],show_progress_bar=True)\n",
    "# Check!\n",
    "print('Query sentence:', Queryquestion)\n",
    "print('Embedding vector - length:', len(Embeddings))\n",
    "print('Embedding vector - columns:', len(Embeddings[0]))\n",
    "print('Embedding vector - note includes negative values:', Embeddings)"
   ]
  },
  {
   "cell_type": "code",
   "execution_count": 5,
   "metadata": {},
   "outputs": [
    {
     "name": "stdout",
     "output_type": "stream",
     "text": [
      "Collecting pymilvus\n",
      "  Downloading pymilvus-2.4.0-1-py3-none-any.whl.metadata (4.5 kB)\n",
      "Requirement already satisfied: setuptools>=67 in c:\\users\\bfx aoye\\anaconda3\\lib\\site-packages (from pymilvus) (68.2.2)\n",
      "Collecting grpcio<=1.60.0,>=1.49.1 (from pymilvus)\n",
      "  Downloading grpcio-1.60.0-cp311-cp311-win_amd64.whl.metadata (4.2 kB)\n",
      "Requirement already satisfied: protobuf>=3.20.0 in c:\\users\\bfx aoye\\anaconda3\\lib\\site-packages (from pymilvus) (3.20.3)\n",
      "Collecting environs<=9.5.0 (from pymilvus)\n",
      "  Downloading environs-9.5.0-py2.py3-none-any.whl.metadata (14 kB)\n",
      "Requirement already satisfied: ujson>=2.0.0 in c:\\users\\bfx aoye\\anaconda3\\lib\\site-packages (from pymilvus) (5.4.0)\n",
      "Requirement already satisfied: pandas>=1.2.4 in c:\\users\\bfx aoye\\anaconda3\\lib\\site-packages (from pymilvus) (2.1.4)\n",
      "Requirement already satisfied: requests in c:\\users\\bfx aoye\\anaconda3\\lib\\site-packages (from pymilvus) (2.31.0)\n",
      "Collecting minio>=7.0.0 (from pymilvus)\n",
      "  Downloading minio-7.2.5-py3-none-any.whl.metadata (6.4 kB)\n",
      "Requirement already satisfied: pyarrow>=12.0.0 in c:\\users\\bfx aoye\\anaconda3\\lib\\site-packages (from pymilvus) (14.0.2)\n",
      "Collecting azure-storage-blob (from pymilvus)\n",
      "  Downloading azure_storage_blob-12.19.1-py3-none-any.whl.metadata (26 kB)\n",
      "Requirement already satisfied: scipy in c:\\users\\bfx aoye\\anaconda3\\lib\\site-packages (from pymilvus) (1.11.4)\n",
      "Collecting marshmallow>=3.0.0 (from environs<=9.5.0->pymilvus)\n",
      "  Downloading marshmallow-3.21.1-py3-none-any.whl.metadata (7.2 kB)\n",
      "Requirement already satisfied: python-dotenv in c:\\users\\bfx aoye\\anaconda3\\lib\\site-packages (from environs<=9.5.0->pymilvus) (0.21.0)\n",
      "Requirement already satisfied: certifi in c:\\users\\bfx aoye\\anaconda3\\lib\\site-packages (from minio>=7.0.0->pymilvus) (2024.2.2)\n",
      "Requirement already satisfied: urllib3 in c:\\users\\bfx aoye\\anaconda3\\lib\\site-packages (from minio>=7.0.0->pymilvus) (2.0.7)\n",
      "Requirement already satisfied: argon2-cffi in c:\\users\\bfx aoye\\anaconda3\\lib\\site-packages (from minio>=7.0.0->pymilvus) (21.3.0)\n",
      "Collecting pycryptodome (from minio>=7.0.0->pymilvus)\n",
      "  Downloading pycryptodome-3.20.0-cp35-abi3-win_amd64.whl.metadata (3.4 kB)\n",
      "Requirement already satisfied: typing-extensions in c:\\users\\bfx aoye\\anaconda3\\lib\\site-packages (from minio>=7.0.0->pymilvus) (4.9.0)\n",
      "Requirement already satisfied: numpy<2,>=1.23.2 in c:\\users\\bfx aoye\\anaconda3\\lib\\site-packages (from pandas>=1.2.4->pymilvus) (1.26.4)\n",
      "Requirement already satisfied: python-dateutil>=2.8.2 in c:\\users\\bfx aoye\\anaconda3\\lib\\site-packages (from pandas>=1.2.4->pymilvus) (2.8.2)\n",
      "Requirement already satisfied: pytz>=2020.1 in c:\\users\\bfx aoye\\anaconda3\\lib\\site-packages (from pandas>=1.2.4->pymilvus) (2023.3.post1)\n",
      "Requirement already satisfied: tzdata>=2022.1 in c:\\users\\bfx aoye\\anaconda3\\lib\\site-packages (from pandas>=1.2.4->pymilvus) (2023.3)\n",
      "Collecting azure-core<2.0.0,>=1.28.0 (from azure-storage-blob->pymilvus)\n",
      "  Downloading azure_core-1.30.1-py3-none-any.whl.metadata (37 kB)\n",
      "Requirement already satisfied: cryptography>=2.1.4 in c:\\users\\bfx aoye\\anaconda3\\lib\\site-packages (from azure-storage-blob->pymilvus) (42.0.2)\n",
      "Collecting isodate>=0.6.1 (from azure-storage-blob->pymilvus)\n",
      "  Downloading isodate-0.6.1-py2.py3-none-any.whl.metadata (9.6 kB)\n",
      "Requirement already satisfied: charset-normalizer<4,>=2 in c:\\users\\bfx aoye\\anaconda3\\lib\\site-packages (from requests->pymilvus) (2.0.4)\n",
      "Requirement already satisfied: idna<4,>=2.5 in c:\\users\\bfx aoye\\anaconda3\\lib\\site-packages (from requests->pymilvus) (3.4)\n",
      "Requirement already satisfied: six>=1.11.0 in c:\\users\\bfx aoye\\anaconda3\\lib\\site-packages (from azure-core<2.0.0,>=1.28.0->azure-storage-blob->pymilvus) (1.16.0)\n",
      "Requirement already satisfied: cffi>=1.12 in c:\\users\\bfx aoye\\anaconda3\\lib\\site-packages (from cryptography>=2.1.4->azure-storage-blob->pymilvus) (1.16.0)\n",
      "Requirement already satisfied: packaging>=17.0 in c:\\users\\bfx aoye\\anaconda3\\lib\\site-packages (from marshmallow>=3.0.0->environs<=9.5.0->pymilvus) (23.1)\n",
      "Requirement already satisfied: argon2-cffi-bindings in c:\\users\\bfx aoye\\anaconda3\\lib\\site-packages (from argon2-cffi->minio>=7.0.0->pymilvus) (21.2.0)\n",
      "Requirement already satisfied: pycparser in c:\\users\\bfx aoye\\anaconda3\\lib\\site-packages (from cffi>=1.12->cryptography>=2.1.4->azure-storage-blob->pymilvus) (2.21)\n",
      "Downloading pymilvus-2.4.0-1-py3-none-any.whl (189 kB)\n",
      "   ---------------------------------------- 0.0/189.7 kB ? eta -:--:--\n",
      "   --------------------------------------- 189.7/189.7 kB 11.2 MB/s eta 0:00:00\n",
      "Downloading environs-9.5.0-py2.py3-none-any.whl (12 kB)\n",
      "Downloading grpcio-1.60.0-cp311-cp311-win_amd64.whl (3.7 MB)\n",
      "   ---------------------------------------- 0.0/3.7 MB ? eta -:--:--\n",
      "   ---------------------- ----------------- 2.1/3.7 MB 44.2 MB/s eta 0:00:01\n",
      "   ---------------------------------------- 3.7/3.7 MB 39.2 MB/s eta 0:00:00\n",
      "Downloading minio-7.2.5-py3-none-any.whl (93 kB)\n",
      "   ---------------------------------------- 0.0/93.2 kB ? eta -:--:--\n",
      "   ---------------------------------------- 93.2/93.2 kB ? eta 0:00:00\n",
      "Downloading azure_storage_blob-12.19.1-py3-none-any.whl (394 kB)\n",
      "   ---------------------------------------- 0.0/394.5 kB ? eta -:--:--\n",
      "   --------------------------------------- 394.5/394.5 kB 24.0 MB/s eta 0:00:00\n",
      "Downloading azure_core-1.30.1-py3-none-any.whl (193 kB)\n",
      "   ---------------------------------------- 0.0/193.4 kB ? eta -:--:--\n",
      "   --------------------------------------- 193.4/193.4 kB 12.2 MB/s eta 0:00:00\n",
      "Downloading isodate-0.6.1-py2.py3-none-any.whl (41 kB)\n",
      "   ---------------------------------------- 0.0/41.7 kB ? eta -:--:--\n",
      "   ---------------------------------------- 41.7/41.7 kB ? eta 0:00:00\n",
      "Downloading marshmallow-3.21.1-py3-none-any.whl (49 kB)\n",
      "   ---------------------------------------- 0.0/49.4 kB ? eta -:--:--\n",
      "   ---------------------------------------- 49.4/49.4 kB ? eta 0:00:00\n",
      "Downloading pycryptodome-3.20.0-cp35-abi3-win_amd64.whl (1.8 MB)\n",
      "   ---------------------------------------- 0.0/1.8 MB ? eta -:--:--\n",
      "   ---------------------------------------- 1.8/1.8 MB 56.4 MB/s eta 0:00:00\n",
      "Installing collected packages: pycryptodome, marshmallow, isodate, grpcio, environs, azure-core, azure-storage-blob, minio, pymilvus\n",
      "Successfully installed azure-core-1.30.1 azure-storage-blob-12.19.1 environs-9.5.0 grpcio-1.60.0 isodate-0.6.1 marshmallow-3.21.1 minio-7.2.5 pycryptodome-3.20.0 pymilvus-2.4.0\n",
      "Vector distance: 0.5715967416763306\n",
      "Text:  Venus Williams switched to a vegan diet for medical reasons, and she loves the new lifestyle.\n",
      "Filename:  Venus_Williams.txt\n",
      "Chunk index:  1\n",
      "Vector distance: 0.5755058526992798\n",
      "Text:  NFL quarterback Justin Fields has identified as a vegetarian since trying the diet during the\n",
      "Filename:  Justin_Fields.txt\n",
      "Chunk index:  2\n",
      "Vector distance: 0.6141711473464966\n",
      "Text:  Venus Williams is a strict vegan.\n",
      "Filename:  Venus_Williams.txt\n",
      "Chunk index:  2\n",
      "Vector distance: 0.6238173246383667\n",
      "Text:  tried a vegetarian 28-day detox.\n",
      "Filename:  Justin_Fields.txt\n",
      "Chunk index:  4\n",
      "Vector distance: 0.6339458227157593\n",
      "Text:  fighters that don't follow plant-based eating.\n",
      "Filename:  Nate_Diaz.txt\n",
      "Chunk index:  7\n",
      "Vector distance: 0.6347243785858154\n",
      "Text:  only went vegan for the season.\n",
      "Filename:  Derrick_Morgan.txt\n",
      "Chunk index:  7\n",
      "Vector distance: 0.6386422514915466\n",
      "Text:  Plant-based diets are growing in the pro sports world, as many star athletes have ditched meat and\n",
      "Filename:  Chris_Paul.txt\n",
      "Chunk index:  2\n",
      "Vector distance: 0.6529878377914429\n",
      "Text:  Former Tennessee Titans linebacker Derrick Morgan switched to a vegan diet in 2017. Morgan was able\n",
      "Filename:  Derrick_Morgan.txt\n",
      "Chunk index:  2\n",
      "Vector distance: 0.653673529624939\n",
      "Text:  vegan, he told Men's Journal.\n",
      "Filename:  Nate_Diaz.txt\n",
      "Chunk index:  5\n",
      "Vector distance: 0.6538429260253906\n",
      "Text:  fully vegan lifestyle.\n",
      "Filename:  Alex_Morgan.txt\n",
      "Chunk index:  3\n"
     ]
    }
   ],
   "source": [
    "# Install and load library\n",
    "!pip install pymilvus\n",
    "from pymilvus import Collection,connections\n",
    "# Connect to a Milvus DB; Outside UCONN, Cisco AnyConnect VPN required\n",
    "conn = connections.connect(\n",
    " alias=\"default\",\n",
    " uri=\"url\",\n",
    " user='cse4701',\n",
    " password='cse4701',\n",
    ")\n",
    "# Select a vector DB collection as your search choice.\n",
    "# You will search predefined collection called “cse4701”.\n",
    "collection = Collection(\"cse4701\")\n",
    "# Set search parameters.\n",
    "search_params = {\n",
    " \"metric_type\": \"L2\",\n",
    " \"offset\": 0,\n",
    " \"ignore_growing\": False,\n",
    " \"params\": {\"nprobe\": 10}\n",
    "}\n",
    "# Perform the query\n",
    "results = collection.search(\n",
    " data=[Embeddings[0]],\n",
    " anns_field=\"vector\",\n",
    " param=search_params,\n",
    " limit=10,\n",
    " expr=None,\n",
    " output_fields=[\"text\",\"filename\",\"chunk_index\"]\n",
    ")\n",
    "# Print out query results\n",
    "for hit in results[0]:\n",
    " print(\"Vector distance:\", hit.distance)\n",
    " print(\"Text: \",hit.entity.get('text'))\n",
    " print(\"Filename: \",hit.entity.get('filename'))\n",
    " print(\"Chunk index: \",hit.entity.get('chunk_index'))"
   ]
  },
  {
   "cell_type": "code",
   "execution_count": 21,
   "metadata": {},
   "outputs": [
    {
     "data": {
      "application/vnd.jupyter.widget-view+json": {
       "model_id": "027ee4f010314d2793f003700e082930",
       "version_major": 2,
       "version_minor": 0
      },
      "text/plain": [
       "Batches:   0%|          | 0/1 [00:00<?, ?it/s]"
      ]
     },
     "metadata": {},
     "output_type": "display_data"
    }
   ],
   "source": [
    "Queryquestion = \"Which NBA players have switched to a plant-based diet?\"\n",
    "# You embed our query question using the model you decided.\n",
    "Embeddings = model.encode([Queryquestion],show_progress_bar=True)"
   ]
  },
  {
   "cell_type": "code",
   "execution_count": 22,
   "metadata": {},
   "outputs": [
    {
     "name": "stdout",
     "output_type": "stream",
     "text": [
      "Vector distance: 0.2717099189758301\n",
      "Text:  Three-time NBA champion Javale McGee switched to a vegan diet in 2016.\n",
      "Filename:  Javale_McGee.txt\n",
      "Chunk index:  2\n",
      "Vector distance: 0.28642264008522034\n",
      "Text:  Three-time NBA champion Javale McGee switched to a vegan diet to lose weight in 2016.\n",
      "Filename:  Javale_McGee.txt\n",
      "Chunk index:  1\n",
      "Vector distance: 0.28879690170288086\n",
      "Text:  Plant-based diets are growing in the pro sports world, as many star athletes have ditched meat and\n",
      "Filename:  Chris_Paul.txt\n",
      "Chunk index:  2\n",
      "Vector distance: 0.2921893298625946\n",
      "Text:  Basketball player Chris Paul switched to a vegan diet in 2019 at the age of 34 when he was with the\n",
      "Filename:  Chris_Paul.txt\n",
      "Chunk index:  4\n",
      "Vector distance: 0.310358464717865\n",
      "Text:  Kyrie Irving switched to a strict vegan lifestyle in 2017 when he was with the Boston Celtics after\n",
      "Filename:  Kyrie_Irving .txt\n",
      "Chunk index:  3\n"
     ]
    }
   ],
   "source": [
    "search_params = {\n",
    " \"metric_type\": \"L2\",\n",
    " \"offset\": 0,\n",
    " \"ignore_growing\": False,\n",
    " \"params\": {\"nprobe\": 10}\n",
    "}\n",
    "# Perform the query\n",
    "results = collection.search(\n",
    " data=[Embeddings[0]],\n",
    " anns_field=\"vector\",\n",
    " param=search_params,\n",
    " limit=5,\n",
    " expr=None,\n",
    " output_fields=[\"text\",\"filename\",\"chunk_index\"]\n",
    ")\n",
    "# Print out query results\n",
    "for hit in results[0]:\n",
    " print(\"Vector distance:\", hit.distance)\n",
    " print(\"Text: \",hit.entity.get('text'))\n",
    " print(\"Filename: \",hit.entity.get('filename'))\n",
    " print(\"Chunk index: \",hit.entity.get('chunk_index'))"
   ]
  }
 ],
 "metadata": {
  "kernelspec": {
   "display_name": "base",
   "language": "python",
   "name": "python3"
  },
  "language_info": {
   "codemirror_mode": {
    "name": "ipython",
    "version": 3
   },
   "file_extension": ".py",
   "mimetype": "text/x-python",
   "name": "python",
   "nbconvert_exporter": "python",
   "pygments_lexer": "ipython3",
   "version": "3.11.7"
  }
 },
 "nbformat": 4,
 "nbformat_minor": 2
}
